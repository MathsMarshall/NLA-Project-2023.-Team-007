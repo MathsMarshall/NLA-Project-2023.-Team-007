{
 "cells": [
  {
   "cell_type": "code",
   "execution_count": 11,
   "id": "7236ec31",
   "metadata": {},
   "outputs": [],
   "source": [
    "from Algorithm1 import recursive_qr_factorization\n",
    "from Algorithm2 import block_cholesky_lu_qr_factorization\n",
    "from Algorithm3 import recursive_qr_combined"
   ]
  },
  {
   "cell_type": "markdown",
   "id": "259641c9",
   "metadata": {},
   "source": [
    "### Numerical Results"
   ]
  },
  {
   "cell_type": "markdown",
   "id": "5ca074bd",
   "metadata": {},
   "source": [
    "## Plan\n",
    "\n",
    "\n",
    "Compare the time taken in computing Algorithm 1 and 3"
   ]
  },
  {
   "cell_type": "code",
   "execution_count": 12,
   "id": "18c88880",
   "metadata": {},
   "outputs": [],
   "source": [
    "import time\n",
    "import numpy as np\n",
    "\n",
    "k = 1\n",
    "m = 4000\n",
    "n = 500\n",
    "A = np.random.rand(m,n)\n",
    "time_full = []\n",
    "time_mixed = []\n",
    "arr_k=[]\n",
    "\n",
    "for x in range(1,8):\n",
    "    k=k*2\n",
    "    arr_k.append(k)\n",
    "    start = time.time()\n",
    "    recursive_qr_combined(A,k)\n",
    "    end = time.time()\n",
    "    \n",
    "    diff = end - start\n",
    "    time_mixed.append(diff)\n",
    "    \n",
    "    start = time.time()\n",
    "    recursive_qr_factorization(A)\n",
    "    end = time.time()\n",
    "    \n",
    "    diff = end - start\n",
    "    time_full.append(diff)\n",
    "    \n",
    "    \n",
    "    \n",
    "    "
   ]
  },
  {
   "cell_type": "code",
   "execution_count": 13,
   "id": "65587ed4",
   "metadata": {},
   "outputs": [
    {
     "data": {
      "image/png": "[encoded data removed]",
      "text/plain": [
       "<Figure size 432x288 with 1 Axes>"
      ]
     },
     "metadata": {
      "needs_background": "light"
     },
     "output_type": "display_data"
    }
   ],
   "source": [
    "import matplotlib.pyplot as plt\n",
    "\n",
    "# Sample data\n",
    "\n",
    "\n",
    "# Plot data with different markers\n",
    "plt.scatter(arr_k, time_full, label='HouseHolder_Full', marker='o')  # Circle marker for series 1\n",
    "plt.scatter(arr_k, time_mixed, label='HouseHolder_cutoff_at_k', marker='s')  # Square marker for series 2\n",
    "\n",
    "# Customize plot\n",
    "plt.xlabel('Value of K to cut off recursion')\n",
    "plt.ylabel('Time to compute (secs)')\n",
    "plt.title('Scatter Plot with Different Markers')\n",
    "plt.legend()\n",
    "plt.show()\n"
   ]
  },
  {
   "cell_type": "markdown",
   "id": "f9dd86da",
   "metadata": {},
   "source": [
    "**Observations**\n",
    "\n",
    "Clearly the computational time for the full Householder recursive remains roughly same as it doesnt depend on k.\n",
    "When we cut off the recursion at blocks with less than k columns(for varying values of k) , it gives a shorter run time as k increases"
   ]
  },
  {
   "cell_type": "code",
   "execution_count": 14,
   "id": "447fd136",
   "metadata": {},
   "outputs": [],
   "source": [
    "def construct_random_matrix(n: int, m: int, cond_number: float):\n",
    "    \"\"\"\n",
    "    Constructs random nxm matrix with a given condition matrix.\n",
    "\n",
    "    Args:\n",
    "        n, m: matrix dimensions\n",
    "        cond_number: the desired condition numebr\n",
    "\n",
    "    Returns: nxm matrix with condition number cond_number\n",
    "    \"\"\"\n",
    "    # Your solution here\n",
    "    # Ensure the condition number is positive\n",
    "    cond_number = abs(cond_number)\n",
    "\n",
    "    # Generate a random matrix\n",
    "    A = np.random.randn(n, m)\n",
    "\n",
    "    # Perform SVD\n",
    "    U, s, Vt = np.linalg.svd(A, full_matrices=False)\n",
    "\n",
    "    # Manipulate singular values to achieve the desired condition number\n",
    "    s_target = np.linspace(1, cond_number, min(n, m))\n",
    "    #Here forces minimum singular value to be 1, and maximum singular value to be condition number\n",
    "    #In accordance with the cond_2 definition\n",
    "    s_actual = np.zeros(min(n, m))\n",
    "    s_actual[:len(s_target)] = s_target\n",
    "\n",
    "    # Reconstruct the matrix with the modified singular values\n",
    "    reconstructed_matrix = U @ np.diag(s_actual) @ Vt\n",
    "\n",
    "    return reconstructed_matrix"
   ]
  },
  {
   "cell_type": "markdown",
   "id": "0b9939ca",
   "metadata": {},
   "source": [
    "## Plan\n",
    "\n",
    "We want to emprically observe the relative error norm of the orthogonal matrices `Q` computed using Algorithm 2 and 3(Using the `relative spectral norm`). We check this by varying the condtion number of the matrix `A`"
   ]
  },
  {
   "cell_type": "code",
   "execution_count": 10,
   "id": "f7ec713c",
   "metadata": {},
   "outputs": [],
   "source": [
    "k = 64\n",
    "m = 4000\n",
    "n = 800\n",
    "\n",
    "loss_block = []\n",
    "loss_mixed = []\n",
    "cond_number =[]\n",
    "start = 1\n",
    "for x in range(1,26):\n",
    "    start = start*np.sqrt(2)\n",
    "    A = construct_random_matrix(m,n,start) ## Create matrix A with a given condtion number \n",
    "    V1,S1,R1 = block_cholesky_lu_qr_factorization(A)\n",
    "    V2,S2,R2 = recursive_qr_combined(A,k)\n",
    "    z1 = V1@S1@V2.T\n",
    "    z2 = V2@S2@V2.T\n",
    "    shape = z1.shape[0]\n",
    "    Q1 = np.eye(shape) - z1 \n",
    "    Q2 = np.eye(shape) - z2\n",
    "    \n",
    "    relative_norm_block = np.linalg.norm(Q1.T@Q1 - np.eye(shape)) # Relative spectral norm error\n",
    "    relative_norm_mixed = np.linalg.norm(Q2.T@Q2 - np.eye(shape))\n",
    "    cond_number.append(start)\n",
    "    loss_block.append(relative_norm_block)\n",
    "    loss_mixed.append(relative_norm_mixed)\n",
    "    \n",
    "    \n",
    "\n"
   ]
  },
  {
   "cell_type": "code",
   "execution_count": 8,
   "id": "0b988faf",
   "metadata": {},
   "outputs": [
    {
     "data": {
      "image/png": "[encoded data removed]",
      "text/plain": [
       "<Figure size 432x288 with 1 Axes>"
      ]
     },
     "metadata": {
      "needs_background": "light"
     },
     "output_type": "display_data"
    }
   ],
   "source": [
    "plt.scatter(cond_number, loss_block, label='Block Cholesky', marker='o') \n",
    "plt.scatter(cond_number, loss_mixed, label='mixed', marker='s')  \n",
    "\n",
    "# Customize plot\n",
    "plt.xlabel('Condition Number')\n",
    "plt.ylabel('Relative Error Norm')\n",
    "plt.title('Scatter Plot with Different Markers')\n",
    "plt.legend()\n",
    "plt.show()"
   ]
  },
  {
   "cell_type": "markdown",
   "id": "9234d7a8",
   "metadata": {},
   "source": [
    "**Observations**\n",
    "\n",
    "Given the nature of the computation of the Block Cholesky form  ie due $A^TA$, we see that the relative error of the norm will increase as the condition number gets squared, while the relative error norm of our algorithm remains roughly the same"
   ]
  },
  {
   "cell_type": "code",
   "execution_count": null,
   "id": "b99a65bd",
   "metadata": {},
   "outputs": [],
   "source": []
  },
  {
   "cell_type": "code",
   "execution_count": null,
   "id": "954434de",
   "metadata": {},
   "outputs": [],
   "source": []
  },
  {
   "cell_type": "code",
   "execution_count": null,
   "id": "ed1886b8",
   "metadata": {},
   "outputs": [],
   "source": []
  },
  {
   "cell_type": "code",
   "execution_count": null,
   "id": "800c66ef",
   "metadata": {},
   "outputs": [],
   "source": []
  }
 ],
 "metadata": {
  "kernelspec": {
   "display_name": "Python 3 (ipykernel)",
   "language": "python",
   "name": "python3"
  },
  "language_info": {
   "codemirror_mode": {
    "name": "ipython",
    "version": 3
   },
   "file_extension": ".py",
   "mimetype": "text/x-python",
   "name": "python",
   "nbconvert_exporter": "python",
   "pygments_lexer": "ipython3",
   "version": "3.9.7"
  }
 },
 "nbformat": 4,
 "nbformat_minor": 5
}
